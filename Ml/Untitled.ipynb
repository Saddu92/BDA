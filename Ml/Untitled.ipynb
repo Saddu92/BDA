{
 "cells": [
  {
   "cell_type": "code",
   "execution_count": 2,
   "id": "2a89f5cf-64f0-4b9c-ba1e-cad4a93b25fb",
   "metadata": {},
   "outputs": [
    {
     "ename": "ModuleNotFoundError",
     "evalue": "No module named 'ipywidgets'",
     "output_type": "error",
     "traceback": [
      "\u001b[1;31m---------------------------------------------------------------------------\u001b[0m",
      "\u001b[1;31mModuleNotFoundError\u001b[0m                       Traceback (most recent call last)",
      "Cell \u001b[1;32mIn[2], line 6\u001b[0m\n\u001b[0;32m      4\u001b[0m \u001b[38;5;28;01mimport\u001b[39;00m\u001b[38;5;250m \u001b[39m\u001b[38;5;21;01mpickle\u001b[39;00m\n\u001b[0;32m      5\u001b[0m \u001b[38;5;28;01mimport\u001b[39;00m\u001b[38;5;250m \u001b[39m\u001b[38;5;21;01mnumpy\u001b[39;00m\u001b[38;5;250m \u001b[39m\u001b[38;5;28;01mas\u001b[39;00m\u001b[38;5;250m \u001b[39m\u001b[38;5;21;01mnp\u001b[39;00m\n\u001b[1;32m----> 6\u001b[0m \u001b[38;5;28;01mimport\u001b[39;00m\u001b[38;5;250m \u001b[39m\u001b[38;5;21;01mipywidgets\u001b[39;00m\u001b[38;5;250m \u001b[39m\u001b[38;5;28;01mas\u001b[39;00m\u001b[38;5;250m \u001b[39m\u001b[38;5;21;01mwidgets\u001b[39;00m\n\u001b[0;32m      7\u001b[0m \u001b[38;5;28;01mfrom\u001b[39;00m\u001b[38;5;250m \u001b[39m\u001b[38;5;21;01mIPython\u001b[39;00m\u001b[38;5;21;01m.\u001b[39;00m\u001b[38;5;21;01mdisplay\u001b[39;00m\u001b[38;5;250m \u001b[39m\u001b[38;5;28;01mimport\u001b[39;00m display, clear_output\n\u001b[0;32m      9\u001b[0m \u001b[38;5;66;03m# Load trained model\u001b[39;00m\n",
      "\u001b[1;31mModuleNotFoundError\u001b[0m: No module named 'ipywidgets'"
     ]
    }
   ],
   "source": [
    "# Install ipywidgets if not installed\n",
    "# !pip install ipywidgets\n",
    "\n",
    "import pickle\n",
    "import numpy as np\n",
    "import ipywidgets as widgets\n",
    "from IPython.display import display, clear_output\n",
    "\n",
    "# Load trained model\n",
    "with open(\"admission_model.pkl\", \"rb\") as f:\n",
    "    model = pickle.load(f)\n",
    "\n",
    "# Create input widgets\n",
    "gre_widget = widgets.IntSlider(value=320, min=260, max=340, description=\"GRE:\")\n",
    "toefl_widget = widgets.IntSlider(value=110, min=80, max=120, description=\"TOEFL:\")\n",
    "uni_rating_widget = widgets.Dropdown(options=[1,2,3,4,5], value=3, description=\"University Rating:\")\n",
    "sop_widget = widgets.FloatSlider(value=3.0, min=1.0, max=5.0, step=0.1, description=\"SOP:\")\n",
    "lor_widget = widgets.FloatSlider(value=3.0, min=1.0, max=5.0, step=0.1, description=\"LOR:\")\n",
    "cgpa_widget = widgets.FloatSlider(value=8.0, min=0, max=10.0, step=0.01, description=\"CGPA:\")\n",
    "research_widget = widgets.Dropdown(options=[0,1], value=0, description=\"Research:\")\n",
    "\n",
    "predict_button = widgets.Button(description=\"Predict Admission Chance\", button_style='success')\n",
    "output = widgets.Output()\n",
    "\n",
    "# Function to run prediction\n",
    "def predict_admission(b):\n",
    "    with output:\n",
    "        clear_output()\n",
    "        user_input = np.array([[gre_widget.value,\n",
    "                                toefl_widget.value,\n",
    "                                uni_rating_widget.value,\n",
    "                                sop_widget.value,\n",
    "                                lor_widget.value,\n",
    "                                cgpa_widget.value,\n",
    "                                research_widget.value]])\n",
    "        pred = model.predict(user_input)[0]\n",
    "        print(f\"Predicted Chance of Admission: {round(pred*100,2)}%\")\n",
    "\n",
    "predict_button.on_click(predict_admission)\n",
    "\n",
    "# Display widgets\n",
    "display(gre_widget, toefl_widget, uni_rating_widget, sop_widget, lor_widget, cgpa_widget, research_widget, predict_button, output)\n"
   ]
  },
  {
   "cell_type": "code",
   "execution_count": null,
   "id": "f8ce0a6d-7a02-4bb3-a9e2-2cfbe584558b",
   "metadata": {},
   "outputs": [],
   "source": []
  },
  {
   "cell_type": "code",
   "execution_count": null,
   "id": "41329726-0d54-40fa-813f-61269bd6c5ba",
   "metadata": {},
   "outputs": [],
   "source": []
  },
  {
   "cell_type": "code",
   "execution_count": null,
   "id": "0fde96e4-6d3d-466d-ba2d-71883db30b4d",
   "metadata": {},
   "outputs": [],
   "source": []
  }
 ],
 "metadata": {
  "kernelspec": {
   "display_name": "Python 3 (ipykernel)",
   "language": "python",
   "name": "python3"
  },
  "language_info": {
   "codemirror_mode": {
    "name": "ipython",
    "version": 3
   },
   "file_extension": ".py",
   "mimetype": "text/x-python",
   "name": "python",
   "nbconvert_exporter": "python",
   "pygments_lexer": "ipython3",
   "version": "3.11.0"
  }
 },
 "nbformat": 4,
 "nbformat_minor": 5
}
