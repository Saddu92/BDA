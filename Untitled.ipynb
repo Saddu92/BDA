{
 "cells": [
  {
   "cell_type": "code",
   "execution_count": 1,
   "id": "58287eb4-54a1-4eb3-bc08-fe211d8b1d8e",
   "metadata": {},
   "outputs": [],
   "source": [
    "import numpy as np\n",
    "import pandas as pd\n",
    "from matplotlib import pyplot as plt\n",
    "%matplotlib inline"
   ]
  },
  {
   "cell_type": "code",
   "execution_count": 2,
   "id": "3ed2f6e3-cbda-42a4-afbd-d1a8d04d3995",
   "metadata": {},
   "outputs": [],
   "source": [
    "# Loading the dataset\n",
    "df = pd.read_csv('admission_predict.csv')"
   ]
  },
  {
   "cell_type": "code",
   "execution_count": null,
   "id": "2abaf4d9-fbdf-4c82-853b-284ee90af02a",
   "metadata": {},
   "outputs": [],
   "source": []
  }
 ],
 "metadata": {
  "kernelspec": {
   "display_name": "Python 3 (ipykernel)",
   "language": "python",
   "name": "python3"
  },
  "language_info": {
   "codemirror_mode": {
    "name": "ipython",
    "version": 3
   },
   "file_extension": ".py",
   "mimetype": "text/x-python",
   "name": "python",
   "nbconvert_exporter": "python",
   "pygments_lexer": "ipython3",
   "version": "3.11.0"
  }
 },
 "nbformat": 4,
 "nbformat_minor": 5
}
